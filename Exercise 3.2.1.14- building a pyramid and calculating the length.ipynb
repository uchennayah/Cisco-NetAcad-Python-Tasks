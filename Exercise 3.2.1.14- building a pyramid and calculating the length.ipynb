{
 "cells": [
  {
   "cell_type": "code",
   "execution_count": 2,
   "id": "22fc55b2",
   "metadata": {},
   "outputs": [
    {
     "name": "stdout",
     "output_type": "stream",
     "text": [
      "input a number to calculate height of blocks: 7\n",
      "input a number that is high factor of the total number of blocks: 4\n",
      "we are still building the pyramid, Yippee\n",
      "the length of the pyramid is:  1\n",
      "we are still building the pyramid, Yippee\n",
      "the length of the pyramid is:  2\n",
      "we are still building the pyramid, Yippee\n",
      "the length of the pyramid is:  3\n",
      "we are still building the pyramid, Yippee\n",
      "the length of the pyramid is:  4\n"
     ]
    }
   ],
   "source": [
    "total_number_of_blocks = int(input(\"input a number to calculate height of blocks: \"))\n",
    "bottom_pyramid = int(input(\"input a number that is high factor of the total number of blocks: \"))\n",
    "count = 0\n",
    "while bottom_pyramid != 0:\n",
    "    if  total_number_of_blocks / bottom_pyramid != 0:\n",
    "        total_number_of_blocks - bottom_pyramid\n",
    "        print(\"we are still building the pyramid, Yippee\")\n",
    "        bottom_pyramid -= 1\n",
    "        count += 1\n",
    "        print(\"the length of the pyramid is: \", count)"
   ]
  },
  {
   "cell_type": "code",
   "execution_count": null,
   "id": "78bf8c77",
   "metadata": {},
   "outputs": [],
   "source": []
  },
  {
   "cell_type": "code",
   "execution_count": null,
   "id": "6d976e81",
   "metadata": {},
   "outputs": [],
   "source": []
  }
 ],
 "metadata": {
  "kernelspec": {
   "display_name": "Python 3",
   "language": "python",
   "name": "python3"
  },
  "language_info": {
   "codemirror_mode": {
    "name": "ipython",
    "version": 3
   },
   "file_extension": ".py",
   "mimetype": "text/x-python",
   "name": "python",
   "nbconvert_exporter": "python",
   "pygments_lexer": "ipython3",
   "version": "3.8.8"
  }
 },
 "nbformat": 4,
 "nbformat_minor": 5
}
